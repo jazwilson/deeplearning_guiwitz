{
 "cells": [
  {
   "attachments": {},
   "cell_type": "markdown",
   "metadata": {},
   "source": [
    "# 03: Tensors"
   ]
  },
  {
   "attachments": {},
   "cell_type": "markdown",
   "metadata": {},
   "source": [
    "- A specific type of array is requried in the context of PyTorch based neural nets, called \"tensors\"\n",
    "- Tensors are similar to NumPy arrays but additional specific functionalities needed for deep learning\n",
    "- Brief exploration of PyTorch tensors, accessible from the torch module:\n"
   ]
  },
  {
   "cell_type": "code",
   "execution_count": 1,
   "metadata": {},
   "outputs": [],
   "source": [
    "import torch\n",
    "import numpy as np\n",
    "import matplotlib.pyplot as plt"
   ]
  },
  {
   "attachments": {},
   "cell_type": "markdown",
   "metadata": {},
   "source": [
    "### Creating arrays"
   ]
  },
  {
   "cell_type": "code",
   "execution_count": 2,
   "metadata": {},
   "outputs": [
    {
     "data": {
      "text/plain": [
       "tensor([[1., 1.],\n",
       "        [1., 1.],\n",
       "        [1., 1.]])"
      ]
     },
     "execution_count": 2,
     "metadata": {},
     "output_type": "execute_result"
    }
   ],
   "source": [
    "# create array filled with ones\n",
    "t_array = torch.ones((3,2))\n",
    "t_array"
   ]
  },
  {
   "cell_type": "code",
   "execution_count": 3,
   "metadata": {},
   "outputs": [
    {
     "data": {
      "text/plain": [
       "array([[1., 1.],\n",
       "       [1., 1.],\n",
       "       [1., 1.]])"
      ]
     },
     "execution_count": 3,
     "metadata": {},
     "output_type": "execute_result"
    }
   ],
   "source": [
    "n_array = np.ones((3,2))\n",
    "n_array"
   ]
  },
  {
   "cell_type": "code",
   "execution_count": 4,
   "metadata": {},
   "outputs": [
    {
     "name": "stdout",
     "output_type": "stream",
     "text": [
      "t_array dtype: torch.float32\n",
      "n_array type: float64\n"
     ]
    }
   ],
   "source": [
    "# find the array type with *dtype*\n",
    "\n",
    "print(f't_array dtype: {t_array.dtype}')\n",
    "print(f'n_array type: {n_array.dtype}')"
   ]
  },
  {
   "cell_type": "code",
   "execution_count": 5,
   "metadata": {},
   "outputs": [
    {
     "data": {
      "text/plain": [
       "tensor([[ 48, 224, 171,  44, 219, 240,  26,  15,  91, 111],\n",
       "        [150,  14, 115, 221,  63,  88,  82, 157,  71, 160],\n",
       "        [ 43, 249,  83, 197,   2,  67,   9, 209, 209, 178],\n",
       "        [ 39, 112, 228, 126,  53, 198, 211,  37, 186,  94],\n",
       "        [249,  44, 105, 102, 151, 235, 219, 165, 126, 210],\n",
       "        [103,  57, 213,   9, 133, 243, 115, 123,  55,  48],\n",
       "        [ 34, 207, 129, 125,  65,  18,   1,  62, 228, 106],\n",
       "        [178,  15, 176, 192,  86,  26, 222,   0, 249, 120],\n",
       "        [ 19, 120, 185, 126, 136, 183, 201,  32,   8, 188],\n",
       "        [115, 177, 241, 188, 139,  91, 139,  90,  21,  43]])"
      ]
     },
     "execution_count": 5,
     "metadata": {},
     "output_type": "execute_result"
    }
   ],
   "source": [
    "# pytorch implements other funcs to create arrays similar to Numpy\n",
    "# eg. random number arrays:\n",
    "\n",
    "t_random = torch.randint(0, 255, (10,10))\n",
    "t_random"
   ]
  },
  {
   "cell_type": "code",
   "execution_count": 6,
   "metadata": {},
   "outputs": [
    {
     "data": {
      "text/plain": [
       "tensor([[1., 1.],\n",
       "        [1., 1.],\n",
       "        [1., 1.]], dtype=torch.float64)"
      ]
     },
     "execution_count": 6,
     "metadata": {},
     "output_type": "execute_result"
    }
   ],
   "source": [
    "# from numpy to tensor\n",
    "t_from_n = torch.tensor(n_array)\n",
    "t_from_n"
   ]
  },
  {
   "cell_type": "code",
   "execution_count": 7,
   "metadata": {},
   "outputs": [
    {
     "data": {
      "text/plain": [
       "array([[1., 1.],\n",
       "       [1., 1.],\n",
       "       [1., 1.]])"
      ]
     },
     "execution_count": 7,
     "metadata": {},
     "output_type": "execute_result"
    }
   ],
   "source": [
    "# numpy from tensor\n",
    "\n",
    "t_from_n.numpy()"
   ]
  },
  {
   "cell_type": "code",
   "execution_count": 8,
   "metadata": {},
   "outputs": [
    {
     "data": {
      "image/png": "[encoded data removed]",
      "text/plain": [
       "<Figure size 640x480 with 1 Axes>"
      ]
     },
     "metadata": {},
     "output_type": "display_data"
    }
   ],
   "source": [
    "plt.imshow(t_random);"
   ]
  },
  {
   "attachments": {},
   "cell_type": "markdown",
   "metadata": {},
   "source": [
    "### Indexing, broadcasting, etc"
   ]
  },
  {
   "cell_type": "code",
   "execution_count": 9,
   "metadata": {},
   "outputs": [
    {
     "data": {
      "text/plain": [
       "tensor([[ 48, 224, 171,  44, 219, 240,  26,  15,  91, 111],\n",
       "        [150,  14, 115, 221,  63,  88,  82, 157,  71, 160],\n",
       "        [ 43, 249,  83, 197,   2,  67,   9, 209, 209, 178],\n",
       "        [ 39, 112, 228, 126,  53, 198, 211,  37, 186,  94],\n",
       "        [249,  44, 105, 102, 151, 235, 219, 165, 126, 210],\n",
       "        [103,  57, 213,   9, 133, 243, 115, 123,  55,  48],\n",
       "        [ 34, 207, 129, 125,  65,  18,   1,  62, 228, 106],\n",
       "        [178,  15, 176, 192,  86,  26, 222,   0, 249, 120],\n",
       "        [ 19, 120, 185, 126, 136, 183, 201,  32,   8, 188],\n",
       "        [115, 177, 241, 188, 139,  91, 139,  90,  21,  43]])"
      ]
     },
     "execution_count": 9,
     "metadata": {},
     "output_type": "execute_result"
    }
   ],
   "source": [
    "t_random"
   ]
  },
  {
   "cell_type": "code",
   "execution_count": 10,
   "metadata": {},
   "outputs": [
    {
     "data": {
      "text/plain": [
       "tensor([ 48, 224, 171,  44, 219, 240,  26,  15,  91, 111])"
      ]
     },
     "execution_count": 10,
     "metadata": {},
     "output_type": "execute_result"
    }
   ],
   "source": [
    "t_random[0,:] # row 0"
   ]
  },
  {
   "cell_type": "code",
   "execution_count": 11,
   "metadata": {},
   "outputs": [
    {
     "data": {
      "text/plain": [
       "tensor([[ 42., 143., 183.,  36., 241.],\n",
       "        [ 42., 143., 183.,  36., 241.],\n",
       "        [ 42., 143., 183.,  36., 241.]])"
      ]
     },
     "execution_count": 11,
     "metadata": {},
     "output_type": "execute_result"
    }
   ],
   "source": [
    "# broadcasting allows the combining of tensors of different but compatible shapes:\n",
    "torch.ones((3,5)) * torch.randint(0, 255, (1,5))"
   ]
  },
  {
   "attachments": {},
   "cell_type": "markdown",
   "metadata": {},
   "source": [
    "- may need to flatten arrays\n",
    "- eg. to create a fully connected layer in a deep learning network\n",
    "- done in two ways:"
   ]
  },
  {
   "cell_type": "code",
   "execution_count": 12,
   "metadata": {},
   "outputs": [
    {
     "data": {
      "text/plain": [
       "tensor([ 48, 224, 171,  44, 219, 240,  26,  15,  91, 111, 150,  14, 115, 221,\n",
       "         63,  88,  82, 157,  71, 160,  43, 249,  83, 197,   2,  67,   9, 209,\n",
       "        209, 178,  39, 112, 228, 126,  53, 198, 211,  37, 186,  94, 249,  44,\n",
       "        105, 102, 151, 235, 219, 165, 126, 210, 103,  57, 213,   9, 133, 243,\n",
       "        115, 123,  55,  48,  34, 207, 129, 125,  65,  18,   1,  62, 228, 106,\n",
       "        178,  15, 176, 192,  86,  26, 222,   0, 249, 120,  19, 120, 185, 126,\n",
       "        136, 183, 201,  32,   8, 188, 115, 177, 241, 188, 139,  91, 139,  90,\n",
       "         21,  43])"
      ]
     },
     "execution_count": 12,
     "metadata": {},
     "output_type": "execute_result"
    }
   ],
   "source": [
    "t_random.flatten()"
   ]
  },
  {
   "attachments": {},
   "cell_type": "markdown",
   "metadata": {},
   "source": [
    "Specify which contiguous dimensions you want to flatten:"
   ]
  },
  {
   "cell_type": "code",
   "execution_count": 13,
   "metadata": {},
   "outputs": [
    {
     "data": {
      "text/plain": [
       "tensor([[[74, 84, 52, 77],\n",
       "         [70, 55, 23, 46],\n",
       "         [ 2, 75, 18, 84]],\n",
       "\n",
       "        [[19, 53, 73, 61],\n",
       "         [63, 80, 30, 21],\n",
       "         [20, 97, 75, 43]]])"
      ]
     },
     "execution_count": 13,
     "metadata": {},
     "output_type": "execute_result"
    }
   ],
   "source": [
    "\n",
    "t_3d = torch.randint(0, 100, (2,3,4))\n",
    "t_3d"
   ]
  },
  {
   "cell_type": "code",
   "execution_count": 14,
   "metadata": {},
   "outputs": [
    {
     "data": {
      "text/plain": [
       "tensor([[74, 84, 52, 77, 70, 55, 23, 46,  2, 75, 18, 84],\n",
       "        [19, 53, 73, 61, 63, 80, 30, 21, 20, 97, 75, 43]])"
      ]
     },
     "execution_count": 14,
     "metadata": {},
     "output_type": "execute_result"
    }
   ],
   "source": [
    "torch.flatten(t_3d, start_dim=1, end_dim=2)"
   ]
  },
  {
   "attachments": {},
   "cell_type": "markdown",
   "metadata": {},
   "source": [
    "Alternative: \n",
    "\n",
    "- use the *view* method, which if possible, returns only a *view* of the array\n",
    "- can pass compatible dimensions to reshape the tensor, or simply use *-1* to completely flatten it"
   ]
  },
  {
   "cell_type": "code",
   "execution_count": 15,
   "metadata": {},
   "outputs": [],
   "source": [
    "t_random = torch.randint(0,255,(10,10))"
   ]
  },
  {
   "cell_type": "code",
   "execution_count": 16,
   "metadata": {},
   "outputs": [
    {
     "data": {
      "text/plain": [
       "tensor([[ 67,  16, 196, 253, 128,  45, 165,  25,  31,   7,   7,  91, 135, 215,\n",
       "         219, 138,  93,  72,  59,  40],\n",
       "        [ 71, 247, 224,   4,  17, 172, 173,  81, 234, 129,  22,  55, 161, 167,\n",
       "          64, 217, 117, 207, 126, 224],\n",
       "        [ 73, 150, 176,  86, 217,  12, 212,  23, 211,  54, 209, 120, 237, 152,\n",
       "          41, 192,  12,  40, 227, 169],\n",
       "        [ 47, 181,  67,  44, 142, 150,  41,  47, 143, 229, 240, 102, 222, 224,\n",
       "          77,  83, 123, 243,  43, 188],\n",
       "        [215, 155, 131, 152,  65,  11, 214, 154, 181,  14, 112,  58, 141, 214,\n",
       "         238, 168, 204, 248,  41,  72]])"
      ]
     },
     "execution_count": 16,
     "metadata": {},
     "output_type": "execute_result"
    }
   ],
   "source": [
    "t_random.view(5, 20)"
   ]
  },
  {
   "cell_type": "code",
   "execution_count": 17,
   "metadata": {},
   "outputs": [
    {
     "data": {
      "text/plain": [
       "tensor([ 67,  16, 196, 253, 128,  45, 165,  25,  31,   7,   7,  91, 135, 215,\n",
       "        219, 138,  93,  72,  59,  40,  71, 247, 224,   4,  17, 172, 173,  81,\n",
       "        234, 129,  22,  55, 161, 167,  64, 217, 117, 207, 126, 224,  73, 150,\n",
       "        176,  86, 217,  12, 212,  23, 211,  54, 209, 120, 237, 152,  41, 192,\n",
       "         12,  40, 227, 169,  47, 181,  67,  44, 142, 150,  41,  47, 143, 229,\n",
       "        240, 102, 222, 224,  77,  83, 123, 243,  43, 188, 215, 155, 131, 152,\n",
       "         65,  11, 214, 154, 181,  14, 112,  58, 141, 214, 238, 168, 204, 248,\n",
       "         41,  72])"
      ]
     },
     "execution_count": 17,
     "metadata": {},
     "output_type": "execute_result"
    }
   ],
   "source": [
    "# flatten\n",
    "t_random.view(-1)"
   ]
  },
  {
   "attachments": {},
   "cell_type": "markdown",
   "metadata": {},
   "source": [
    "As we are dealing with a *view*: If we modify one of the arrays *in place*, the values in the other arrays are changed as well. This means that this is **not** an independent array, but a shallow-copy. BE CAREFUL"
   ]
  },
  {
   "cell_type": "code",
   "execution_count": 18,
   "metadata": {},
   "outputs": [
    {
     "data": {
      "text/plain": [
       "tensor([[ 67,  16, 196, 253, 128,  45, 165,  25,  31,   7,   7,  91, 135, 215,\n",
       "         219, 138,  93,  72,  59,  40],\n",
       "        [ 71, 247, 224,   4,  17, 172, 173,  81, 234, 129,  22,  55, 161, 167,\n",
       "          64, 217, 117, 207, 126, 224],\n",
       "        [ 73, 150, 176,  86, 217,  12, 212,  23, 211,  54, 209, 120, 237, 152,\n",
       "          41, 192,  12,  40, 227, 169],\n",
       "        [ 47, 181,  67,  44, 142, 150,  41,  47, 143, 229, 240, 102, 222, 224,\n",
       "          77,  83, 123, 243,  43, 188],\n",
       "        [215, 155, 131, 152,  65,  11, 214, 154, 181,  14, 112,  58, 141, 214,\n",
       "         238, 168, 204, 248,  41,  72]])"
      ]
     },
     "execution_count": 18,
     "metadata": {},
     "output_type": "execute_result"
    }
   ],
   "source": [
    "view_copy = t_random.view(5,20)\n",
    "view_copy"
   ]
  },
  {
   "cell_type": "code",
   "execution_count": 19,
   "metadata": {},
   "outputs": [
    {
     "data": {
      "text/plain": [
       "tensor([[1, 1, 1, 1, 1, 1, 1, 1, 1, 1, 1, 1, 1, 1, 1, 1, 1, 1, 1, 1],\n",
       "        [1, 1, 1, 1, 1, 1, 1, 1, 1, 1, 1, 1, 1, 1, 1, 1, 1, 1, 1, 1],\n",
       "        [1, 1, 1, 1, 1, 1, 1, 1, 1, 1, 1, 1, 1, 1, 1, 1, 1, 1, 1, 1],\n",
       "        [1, 1, 1, 1, 1, 1, 1, 1, 1, 1, 1, 1, 1, 1, 1, 1, 1, 1, 1, 1],\n",
       "        [1, 1, 1, 1, 1, 1, 1, 1, 1, 1, 1, 1, 1, 1, 1, 1, 1, 1, 1, 1]])"
      ]
     },
     "execution_count": 19,
     "metadata": {},
     "output_type": "execute_result"
    }
   ],
   "source": [
    "view_copy.fill_(1)"
   ]
  },
  {
   "cell_type": "code",
   "execution_count": 20,
   "metadata": {},
   "outputs": [
    {
     "data": {
      "text/plain": [
       "tensor([[1, 1, 1, 1, 1, 1, 1, 1, 1, 1],\n",
       "        [1, 1, 1, 1, 1, 1, 1, 1, 1, 1],\n",
       "        [1, 1, 1, 1, 1, 1, 1, 1, 1, 1],\n",
       "        [1, 1, 1, 1, 1, 1, 1, 1, 1, 1],\n",
       "        [1, 1, 1, 1, 1, 1, 1, 1, 1, 1],\n",
       "        [1, 1, 1, 1, 1, 1, 1, 1, 1, 1],\n",
       "        [1, 1, 1, 1, 1, 1, 1, 1, 1, 1],\n",
       "        [1, 1, 1, 1, 1, 1, 1, 1, 1, 1],\n",
       "        [1, 1, 1, 1, 1, 1, 1, 1, 1, 1],\n",
       "        [1, 1, 1, 1, 1, 1, 1, 1, 1, 1]])"
      ]
     },
     "execution_count": 20,
     "metadata": {},
     "output_type": "execute_result"
    }
   ],
   "source": [
    "# original affected\n",
    "t_random"
   ]
  },
  {
   "attachments": {},
   "cell_type": "markdown",
   "metadata": {},
   "source": [
    "### Gradients"
   ]
  },
  {
   "attachments": {},
   "cell_type": "markdown",
   "metadata": {},
   "source": [
    "- to perform backpropogation in Deep Learning networks, we need to calculate all the necessary gradients.\n",
    "- this feature is integrated into PyTorch arrays directly:\n",
    "    - use the **require_grad** option\n",
    "    - simple example, define a variable **x = 1**\n"
   ]
  },
  {
   "cell_type": "code",
   "execution_count": 21,
   "metadata": {},
   "outputs": [],
   "source": [
    "x = torch.ones(1, 1, requires_grad=True)"
   ]
  },
  {
   "cell_type": "code",
   "execution_count": 22,
   "metadata": {},
   "outputs": [
    {
     "data": {
      "text/plain": [
       "tensor([[1.]], requires_grad=True)"
      ]
     },
     "execution_count": 22,
     "metadata": {},
     "output_type": "execute_result"
    }
   ],
   "source": [
    "x"
   ]
  },
  {
   "attachments": {},
   "cell_type": "markdown",
   "metadata": {},
   "source": [
    "Pass variable through a few simple operations:"
   ]
  },
  {
   "cell_type": "code",
   "execution_count": 23,
   "metadata": {},
   "outputs": [],
   "source": [
    "y = 2 * x"
   ]
  },
  {
   "cell_type": "code",
   "execution_count": 24,
   "metadata": {},
   "outputs": [],
   "source": [
    "z = y**(3/2)"
   ]
  },
  {
   "cell_type": "code",
   "execution_count": 25,
   "metadata": {},
   "outputs": [],
   "source": [
    "w = 5 * z"
   ]
  },
  {
   "attachments": {},
   "cell_type": "markdown",
   "metadata": {},
   "source": [
    "Our last variable that depended initially on x, is now w. So w needs to be optimised in respect to variable x. We can do this simply by calculating the gradients of w **dw/dx**"
   ]
  },
  {
   "cell_type": "code",
   "execution_count": 26,
   "metadata": {},
   "outputs": [],
   "source": [
    "w.backward()"
   ]
  },
  {
   "cell_type": "code",
   "execution_count": 27,
   "metadata": {},
   "outputs": [
    {
     "name": "stdout",
     "output_type": "stream",
     "text": [
      "tensor([[21.2132]])\n"
     ]
    }
   ],
   "source": [
    "print(x.grad)"
   ]
  },
  {
   "attachments": {},
   "cell_type": "markdown",
   "metadata": {},
   "source": [
    "Verify that we indeed obtain the correct gradient:"
   ]
  },
  {
   "cell_type": "code",
   "execution_count": 28,
   "metadata": {},
   "outputs": [
    {
     "data": {
      "text/plain": [
       "21.213203435596427"
      ]
     },
     "execution_count": 28,
     "metadata": {},
     "output_type": "execute_result"
    }
   ],
   "source": [
    "5 * (3/2)*(2**0.5)*2"
   ]
  },
  {
   "attachments": {},
   "cell_type": "markdown",
   "metadata": {},
   "source": [
    "recover a numpy array from a PyTorch tensor or plot a PyTorch tensor with Matplotlib"
   ]
  },
  {
   "cell_type": "code",
   "execution_count": 29,
   "metadata": {},
   "outputs": [
    {
     "ename": "RuntimeError",
     "evalue": "Can't call numpy() on Tensor that requires grad. Use tensor.detach().numpy() instead.",
     "output_type": "error",
     "traceback": [
      "\u001b[0;31m---------------------------------------------------------------------------\u001b[0m",
      "\u001b[0;31mRuntimeError\u001b[0m                              Traceback (most recent call last)",
      "Cell \u001b[0;32mIn[29], line 1\u001b[0m\n\u001b[0;32m----> 1\u001b[0m x\u001b[39m.\u001b[39;49mnumpy()\n",
      "\u001b[0;31mRuntimeError\u001b[0m: Can't call numpy() on Tensor that requires grad. Use tensor.detach().numpy() instead."
     ]
    }
   ],
   "source": [
    "x.numpy()"
   ]
  },
  {
   "cell_type": "code",
   "execution_count": null,
   "metadata": {},
   "outputs": [
    {
     "data": {
      "text/plain": [
       "array([[1.]], dtype=float32)"
      ]
     },
     "execution_count": 38,
     "metadata": {},
     "output_type": "execute_result"
    }
   ],
   "source": [
    "x.detach().numpy()"
   ]
  },
  {
   "attachments": {},
   "cell_type": "markdown",
   "metadata": {},
   "source": [
    "### Sending tensors to a GPU"
   ]
  },
  {
   "attachments": {},
   "cell_type": "markdown",
   "metadata": {},
   "source": [
    "If pc has a compatible GPU, or if you run the notebook on Google Colab with a GPU runtime -> you can exploit Graphics card computing power"
   ]
  },
  {
   "attachments": {},
   "cell_type": "markdown",
   "metadata": {},
   "source": [
    "The data will have to be \"pushed\" or \"pulled\" to and from that device. Can push entire networks but for the moment just send a tensor"
   ]
  },
  {
   "attachments": {},
   "cell_type": "markdown",
   "metadata": {},
   "source": [
    "Check GPU is a available"
   ]
  },
  {
   "cell_type": "code",
   "execution_count": null,
   "metadata": {},
   "outputs": [
    {
     "data": {
      "text/plain": [
       "False"
      ]
     },
     "execution_count": 42,
     "metadata": {},
     "output_type": "execute_result"
    }
   ],
   "source": [
    "torch.cuda.is_available()"
   ]
  }
 ],
 "metadata": {
  "kernelspec": {
   "display_name": "DLImaging",
   "language": "python",
   "name": "python3"
  },
  "language_info": {
   "codemirror_mode": {
    "name": "ipython",
    "version": 3
   },
   "file_extension": ".py",
   "mimetype": "text/x-python",
   "name": "python",
   "nbconvert_exporter": "python",
   "pygments_lexer": "ipython3",
   "version": "3.9.15"
  },
  "orig_nbformat": 4,
  "vscode": {
   "interpreter": {
    "hash": "7be78ef86576dc85e4063c07c65a9db690a1cb6a564e4c0124da975355a61b8d"
   }
  }
 },
 "nbformat": 4,
 "nbformat_minor": 2
}
